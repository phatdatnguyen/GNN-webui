{
 "cells": [
  {
   "cell_type": "markdown",
   "id": "c11ae738",
   "metadata": {},
   "source": [
    "# Install WebUI"
   ]
  },
  {
   "cell_type": "code",
   "execution_count": null,
   "id": "bb9ab587",
   "metadata": {
    "vscode": {
     "languageId": "plaintext"
    }
   },
   "outputs": [],
   "source": [
    "!pip install rdkit\n",
    "!pip install mordred\n",
    "!pip install tensorflow\n",
    "!pip install deepchem\n",
    "!pip install torch_geometric\n",
    "!pip install gradio==4.44.1\n",
    "!pip install gradio_molecule2d\n",
    "!pip install gradio_molecule3d\n",
    "!pip install plotly"
   ]
  },
  {
   "cell_type": "markdown",
   "id": "b90a5636",
   "metadata": {},
   "source": [
    "# Run WebUI"
   ]
  },
  {
   "cell_type": "code",
   "execution_count": null,
   "id": "d4d5943b",
   "metadata": {
    "scrolled": true,
    "vscode": {
     "languageId": "plaintext"
    }
   },
   "outputs": [],
   "source": [
    "!python webui.py"
   ]
  },
  {
   "cell_type": "code",
   "execution_count": null,
   "id": "5d4ec653-3060-4228-8992-1ea91aa822f4",
   "metadata": {},
   "outputs": [],
   "source": []
  }
 ],
 "metadata": {
  "kernelspec": {
   "display_name": "Python 3 (ipykernel)",
   "language": "python",
   "name": "python3"
  },
  "language_info": {
   "codemirror_mode": {
    "name": "ipython",
    "version": 3
   },
   "file_extension": ".py",
   "mimetype": "text/x-python",
   "name": "python",
   "nbconvert_exporter": "python",
   "pygments_lexer": "ipython3",
   "version": "3.12.3"
  }
 },
 "nbformat": 4,
 "nbformat_minor": 5
}
