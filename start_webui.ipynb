{
 "cells": [
  {
   "cell_type": "code",
   "execution_count": null,
   "id": "bb9ab587",
   "metadata": {
    "vscode": {
     "languageId": "plaintext"
    }
   },
   "outputs": [],
   "source": [
    "!pip install rdkit\n",
    "!pip install deepchem\n",
    "!pip install gradio\n",
    "!pip install gradio_molecule2d\n",
    "!pip install gradio_molecule3d"
   ]
  },
  {
   "cell_type": "code",
   "execution_count": null,
   "id": "d4d5943b",
   "metadata": {
    "vscode": {
     "languageId": "plaintext"
    }
   },
   "outputs": [],
   "source": [
    "!python webui.py"
   ]
  }
 ],
 "metadata": {
  "language_info": {
   "name": "python"
  }
 },
 "nbformat": 4,
 "nbformat_minor": 5
}
